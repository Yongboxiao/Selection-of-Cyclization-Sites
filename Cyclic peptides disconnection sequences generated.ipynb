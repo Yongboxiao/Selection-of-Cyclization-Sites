{
 "cells": [
  {
   "cell_type": "code",
   "execution_count": 1,
   "id": "9423beb4",
   "metadata": {},
   "outputs": [],
   "source": [
    "from __future__ import print_function, division\n",
    "import tempfile\n",
    "import pandas as pd\n",
    "import numpy as np\n",
    "import tensorflow as tf\n",
    "from sklearn.model_selection import train_test_split\n",
    "from sklearn.preprocessing import StandardScaler\n",
    "from sklearn import metrics\n",
    "from sklearn.model_selection import cross_val_score\n",
    "from tensorflow import keras\n",
    "from keras.preprocessing.sequence import pad_sequences"
   ]
  },
  {
   "cell_type": "code",
   "execution_count": 2,
   "id": "b29db3bc",
   "metadata": {},
   "outputs": [
    {
     "name": "stdout",
     "output_type": "stream",
     "text": [
      "Processed sequences saved to processed_sequences.csv\n"
     ]
    }
   ],
   "source": [
    "import pandas as pd\n",
    "\n",
    "def generate_linear_sequences(cyclic_sequence):\n",
    "    \"\"\"\n",
    "    Generate linear sequences from a cyclic peptide sequence by breaking it at different points.\n",
    "\n",
    "    \"\"\"\n",
    "    length = len(cyclic_sequence)\n",
    "    return [cyclic_sequence[i:] + cyclic_sequence[:i] for i in range(length)]\n",
    "\n",
    "def process_sequences(input_file, output_file):\n",
    "    \"\"\"\n",
    "    Process sequences from an input CSV file, generate linear sequences, and save them to an output CSV file.\n",
    "\n",
    "    \"\"\"\n",
    "    # Read the CSV file\n",
    "    df = pd.read_csv(r'D:\\data\\targets.csv')\n",
    "    \n",
    "    # Assuming the sequences are in a column named 'Sequence'\n",
    "    sequences = df['Sequence'].tolist()\n",
    "    \n",
    "    all_linear_sequences = []\n",
    "    for sequence in sequences:\n",
    "        linear_sequences = generate_linear_sequences(sequence)\n",
    "        all_linear_sequences.extend(linear_sequences)\n",
    "    \n",
    "    # Save to a new CSV file\n",
    "    result_df = pd.DataFrame(all_linear_sequences, columns=['Sequence'])\n",
    "    result_df.to_csv(output_file, index=False)\n",
    "    print(f\"Processed sequences saved to {output_file}\")\n",
    "\n",
    "def main():\n",
    "    input_file = 'targets.csv'   # Input CSV file\n",
    "    output_file = 'processed_sequences.csv'  \n",
    "    \n",
    "    process_sequences(input_file, output_file)\n",
    "\n",
    "if __name__ == \"__main__\":\n",
    "    main()"
   ]
  }
 ],
 "metadata": {
  "kernelspec": {
   "display_name": "Python 3 (ipykernel)",
   "language": "python",
   "name": "python3"
  },
  "language_info": {
   "codemirror_mode": {
    "name": "ipython",
    "version": 3
   },
   "file_extension": ".py",
   "mimetype": "text/x-python",
   "name": "python",
   "nbconvert_exporter": "python",
   "pygments_lexer": "ipython3",
   "version": "3.11.8"
  }
 },
 "nbformat": 4,
 "nbformat_minor": 5
}
