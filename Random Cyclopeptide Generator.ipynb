{
 "cells": [
  {
   "cell_type": "code",
   "execution_count": 4,
   "id": "07040900",
   "metadata": {},
   "outputs": [
    {
     "name": "stdout",
     "output_type": "stream",
     "text": [
      "Peptide 1: KADF\n",
      "Peptide 2: TFDQHRK\n",
      "Peptide 3: PVDTFVFSL\n"
     ]
    }
   ],
   "source": [
    "import random\n",
    "\n",
    "# Define the list of 20 native amino acids\n",
    "amino_acids = ['A', 'R', 'N', 'D', 'C', 'Q', 'E', 'G', 'H', 'I', 'L', 'K', 'M', 'F', 'P', 'S', 'T', 'W', 'Y', 'V']\n",
    "\n",
    "# Function to generate a random peptide sequence\n",
    "def generate_peptide(min_len=2, max_len=14):\n",
    "    seq_length = random.randint(min_len, max_len)  # Random sequence length between 2 and 14\n",
    "    peptide = ''.join(random.choice(amino_acids) for _ in range(seq_length))  # Randomly select amino acids\n",
    "    return peptide\n",
    "\n",
    "# Generate the three validation peptides\n",
    "peptide_1 = generate_peptide()\n",
    "peptide_2 = generate_peptide()\n",
    "peptide_3 = generate_peptide()\n",
    "\n",
    "# Output the generated peptides\n",
    "print(\"Peptide 1:\", peptide_1)\n",
    "print(\"Peptide 2:\", peptide_2)\n",
    "print(\"Peptide 3:\", peptide_3)"
   ]
  }
 ],
 "metadata": {
  "kernelspec": {
   "display_name": "Python [conda env:cyclopeptide]",
   "language": "python",
   "name": "conda-env-cyclopeptide-py"
  },
  "language_info": {
   "codemirror_mode": {
    "name": "ipython",
    "version": 3
   },
   "file_extension": ".py",
   "mimetype": "text/x-python",
   "name": "python",
   "nbconvert_exporter": "python",
   "pygments_lexer": "ipython3",
   "version": "3.7.1"
  }
 },
 "nbformat": 4,
 "nbformat_minor": 5
}
